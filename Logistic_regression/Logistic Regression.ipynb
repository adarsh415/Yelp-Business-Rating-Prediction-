{
 "cells": [
  {
   "cell_type": "code",
   "execution_count": 1,
   "metadata": {
    "collapsed": true
   },
   "outputs": [],
   "source": [
    "import pandas as pd\n",
    "import numpy as np"
   ]
  },
  {
   "cell_type": "code",
   "execution_count": 2,
   "metadata": {
    "collapsed": true
   },
   "outputs": [],
   "source": [
    "#Read Yelp csv file\n",
    "path='D:/Adarsh_Laptop/studetmater/python/pycon-2016-tutorial/data/yelp.csv'\n",
    "data = pd.read_csv(path)"
   ]
  },
  {
   "cell_type": "code",
   "execution_count": 3,
   "metadata": {
    "collapsed": false
   },
   "outputs": [
    {
     "data": {
      "text/plain": [
       "0"
      ]
     },
     "execution_count": 3,
     "metadata": {},
     "output_type": "execute_result"
    }
   ],
   "source": [
    "#select only rating 1 and 5 from stars columns of yelp.csv data\n",
    "data = data[(data.stars == 5) | (data.stars == 1)] \n",
    "#Retreive only text and stars columns\n",
    "X_data = data['text']\n",
    "y_data = data['stars']\n",
    "#checking for missing data and found none\n",
    "X_data.isnull().sum()\n",
    "y_data.isnull().sum()"
   ]
  },
  {
   "cell_type": "code",
   "execution_count": 4,
   "metadata": {
    "collapsed": false
   },
   "outputs": [
    {
     "data": {
      "text/plain": [
       "(4086L,)"
      ]
     },
     "execution_count": 4,
     "metadata": {},
     "output_type": "execute_result"
    }
   ],
   "source": [
    "X_data.shape"
   ]
  },
  {
   "cell_type": "code",
   "execution_count": 5,
   "metadata": {
    "collapsed": false
   },
   "outputs": [
    {
     "data": {
      "text/plain": [
       "(4086L,)"
      ]
     },
     "execution_count": 5,
     "metadata": {},
     "output_type": "execute_result"
    }
   ],
   "source": [
    "y_data.shape"
   ]
  },
  {
   "cell_type": "code",
   "execution_count": 6,
   "metadata": {
    "collapsed": false
   },
   "outputs": [
    {
     "name": "stdout",
     "output_type": "stream",
     "text": [
      "(2860L,)\n",
      "(1226L,)\n",
      "(2860L,)\n",
      "(1226L,)\n"
     ]
    }
   ],
   "source": [
    "#Split the data into train and test set\n",
    "\n",
    "from sklearn.cross_validation import train_test_split\n",
    "X_train,X_test,y_train,y_test= train_test_split(X_data,y_data,test_size =0.3,random_state=42)\n",
    "print X_train.shape\n",
    "print X_test.shape\n",
    "print y_train.shape\n",
    "print y_test.shape"
   ]
  },
  {
   "cell_type": "code",
   "execution_count": 17,
   "metadata": {
    "collapsed": false
   },
   "outputs": [
    {
     "data": {
      "text/plain": [
       "<2860x16218 sparse matrix of type '<type 'numpy.int64'>'\n",
       "\twith 220980 stored elements in Compressed Sparse Row format>"
      ]
     },
     "execution_count": 17,
     "metadata": {},
     "output_type": "execute_result"
    }
   ],
   "source": [
    "#CountVectorizer shall be used to work on text data\n",
    "from sklearn.feature_extraction.text import CountVectorizer\n",
    "vect = CountVectorizer()\n",
    "vect.fit(X_train)\n",
    "X_train_dtm = vect.transform(X_train)\n",
    "X_train_dtm"
   ]
  },
  {
   "cell_type": "code",
   "execution_count": 18,
   "metadata": {
    "collapsed": true
   },
   "outputs": [],
   "source": [
    "#Vectorize Test data\n",
    "X_test_dtm = vect.transform(X_test)"
   ]
  },
  {
   "cell_type": "code",
   "execution_count": 19,
   "metadata": {
    "collapsed": true
   },
   "outputs": [],
   "source": [
    "#Encode 1 and 5 rating\n",
    "from sklearn.preprocessing import LabelEncoder\n",
    "lb = LabelEncoder()\n",
    "y_train=lb.fit_transform(y_train)\n",
    "y_test=lb.fit_transform(y_test)"
   ]
  },
  {
   "cell_type": "code",
   "execution_count": 20,
   "metadata": {
    "collapsed": false
   },
   "outputs": [
    {
     "data": {
      "text/plain": [
       "GridSearchCV(cv=10, error_score='raise',\n",
       "       estimator=LogisticRegression(C=1.0, class_weight=None, dual=False, fit_intercept=True,\n",
       "          intercept_scaling=1, max_iter=100, multi_class='ovr', n_jobs=1,\n",
       "          penalty='l2', random_state=None, solver='liblinear', tol=0.0001,\n",
       "          verbose=0, warm_start=False),\n",
       "       fit_params={}, iid=True, n_jobs=1,\n",
       "       param_grid={'penalty': ['l1', 'l2'], 'C': array([  1. ,   1.2, ...,  19.6,  19.8])},\n",
       "       pre_dispatch='2*n_jobs', refit=True, scoring=None, verbose=0)"
      ]
     },
     "execution_count": 20,
     "metadata": {},
     "output_type": "execute_result"
    }
   ],
   "source": [
    "#using GridsearchCV for parameter selection and tuning.\n",
    "\n",
    "from sklearn.linear_model import LogisticRegression\n",
    "from sklearn.grid_search import GridSearchCV\n",
    "\n",
    "\n",
    "grid = GridSearchCV(LogisticRegression(),param_grid={'C':np.arange(1,20,0.2),'penalty':['l1','l2']},cv=10)\n",
    "grid.fit(X_train_dtm,y_train)"
   ]
  },
  {
   "cell_type": "code",
   "execution_count": 21,
   "metadata": {
    "collapsed": false
   },
   "outputs": [
    {
     "data": {
      "text/plain": [
       "array([0, 1, 1, ..., 1, 1, 1], dtype=int64)"
      ]
     },
     "execution_count": 21,
     "metadata": {},
     "output_type": "execute_result"
    }
   ],
   "source": [
    "# predict \n",
    "grid.predict(X_test_dtm)"
   ]
  },
  {
   "cell_type": "code",
   "execution_count": 22,
   "metadata": {
    "collapsed": false
   },
   "outputs": [
    {
     "data": {
      "text/plain": [
       "{'C': 4.1999999999999993, 'penalty': 'l2'}"
      ]
     },
     "execution_count": 22,
     "metadata": {},
     "output_type": "execute_result"
    }
   ],
   "source": [
    "# Best params\n",
    "grid.best_params_"
   ]
  },
  {
   "cell_type": "code",
   "execution_count": 23,
   "metadata": {
    "collapsed": false
   },
   "outputs": [
    {
     "data": {
      "text/plain": [
       "0.93356643356643354"
      ]
     },
     "execution_count": 23,
     "metadata": {},
     "output_type": "execute_result"
    }
   ],
   "source": [
    "#Best Score\n",
    "grid.best_score_"
   ]
  },
  {
   "cell_type": "code",
   "execution_count": 24,
   "metadata": {
    "collapsed": false
   },
   "outputs": [
    {
     "data": {
      "text/plain": [
       "LogisticRegression(C=4.19, class_weight=None, dual=False, fit_intercept=True,\n",
       "          intercept_scaling=1, max_iter=100, multi_class='ovr', n_jobs=1,\n",
       "          penalty='l2', random_state=None, solver='liblinear', tol=0.0001,\n",
       "          verbose=0, warm_start=False)"
      ]
     },
     "execution_count": 24,
     "metadata": {},
     "output_type": "execute_result"
    }
   ],
   "source": [
    "#Lest use C = 4.19 and penalty l2\n",
    "log_reg = LogisticRegression(C=4.19,penalty='l2')\n",
    "log_reg.fit(X_train_dtm,y_train)"
   ]
  },
  {
   "cell_type": "code",
   "execution_count": 25,
   "metadata": {
    "collapsed": false
   },
   "outputs": [
    {
     "name": "stdout",
     "output_type": "stream",
     "text": [
      "[0 1 1 ..., 1 1 1]\n"
     ]
    }
   ],
   "source": [
    "#predict\n",
    "logr_pred = log_reg.predict(X_test_dtm)\n",
    "print logr_pred"
   ]
  },
  {
   "cell_type": "code",
   "execution_count": 26,
   "metadata": {
    "collapsed": false
   },
   "outputs": [
    {
     "name": "stdout",
     "output_type": "stream",
     "text": [
      "Predicted [0 1 1 1 1 1 1 1 1 0 1 1 1 1 1 1 1 1 1 1 1 1 1 1 1]\n",
      "True      [0 1 1 1 1 1 1 1 0 1 1 0 1 1 1 1 1 0 1 1 1 1 1 1 1]\n"
     ]
    }
   ],
   "source": [
    "#lets analyse 25 elements of predicted and test y labels , 0 means 1 rating and 1 means 5 rating \n",
    "print'Predicted',(logr_pred[:25])\n",
    "print'True     ',(y_test[:25])"
   ]
  },
  {
   "cell_type": "code",
   "execution_count": 27,
   "metadata": {
    "collapsed": false
   },
   "outputs": [
    {
     "name": "stdout",
     "output_type": "stream",
     "text": [
      "accuracy score 0.927406199021\n"
     ]
    }
   ],
   "source": [
    "#Lets calculate the accuracy \n",
    "from sklearn import metrics\n",
    "print 'accuracy score',metrics.accuracy_score(y_test,logr_pred)"
   ]
  },
  {
   "cell_type": "code",
   "execution_count": 28,
   "metadata": {
    "collapsed": false
   },
   "outputs": [
    {
     "name": "stdout",
     "output_type": "stream",
     "text": [
      "confusion matrix \n",
      "[[173  60]\n",
      " [ 29 964]]\n"
     ]
    }
   ],
   "source": [
    "#Lets see the confusion metrix \n",
    "conf_matrix=metrics.confusion_matrix(y_test,logr_pred)\n",
    "print 'confusion matrix \\n',conf_matrix"
   ]
  },
  {
   "cell_type": "code",
   "execution_count": 29,
   "metadata": {
    "collapsed": false
   },
   "outputs": [
    {
     "data": {
      "text/html": [
       "<div>\n",
       "<table border=\"1\" class=\"dataframe\">\n",
       "  <thead>\n",
       "    <tr style=\"text-align: right;\">\n",
       "      <th>Predicted</th>\n",
       "      <th>0</th>\n",
       "      <th>1</th>\n",
       "      <th>All</th>\n",
       "    </tr>\n",
       "    <tr>\n",
       "      <th>True</th>\n",
       "      <th></th>\n",
       "      <th></th>\n",
       "      <th></th>\n",
       "    </tr>\n",
       "  </thead>\n",
       "  <tbody>\n",
       "    <tr>\n",
       "      <th>0</th>\n",
       "      <td>173</td>\n",
       "      <td>60</td>\n",
       "      <td>233</td>\n",
       "    </tr>\n",
       "    <tr>\n",
       "      <th>1</th>\n",
       "      <td>29</td>\n",
       "      <td>964</td>\n",
       "      <td>993</td>\n",
       "    </tr>\n",
       "    <tr>\n",
       "      <th>All</th>\n",
       "      <td>202</td>\n",
       "      <td>1024</td>\n",
       "      <td>1226</td>\n",
       "    </tr>\n",
       "  </tbody>\n",
       "</table>\n",
       "</div>"
      ],
      "text/plain": [
       "Predicted    0     1   All\n",
       "True                      \n",
       "0          173    60   233\n",
       "1           29   964   993\n",
       "All        202  1024  1226"
      ]
     },
     "execution_count": 29,
     "metadata": {},
     "output_type": "execute_result"
    }
   ],
   "source": [
    "#Lets visualize \n",
    "pd.crosstab(y_test, logr_pred, rownames=['True'], colnames=['Predicted'], margins=True)"
   ]
  },
  {
   "cell_type": "code",
   "execution_count": 30,
   "metadata": {
    "collapsed": false
   },
   "outputs": [
    {
     "name": "stdout",
     "output_type": "stream",
     "text": [
      "ROC_AUC_SCORE:-  0.856642419685\n"
     ]
    }
   ],
   "source": [
    "#Lets see AUC \n",
    "auc_val = metrics.roc_auc_score(y_test,logr_pred)\n",
    "print 'ROC_AUC_SCORE:- ', auc_val"
   ]
  },
  {
   "cell_type": "code",
   "execution_count": 31,
   "metadata": {
    "collapsed": false
   },
   "outputs": [
    {
     "name": "stdout",
     "output_type": "stream",
     "text": [
      "Recall score 0.970795568983\n"
     ]
    }
   ],
   "source": [
    "#Sensitivity : is the classifier to detecting positive instances , also True Positive Rate\" or \"Recall\"\n",
    "recall_logr= metrics.recall_score(y_test,logr_pred)\n",
    "print 'Recall score',recall_logr"
   ]
  },
  {
   "cell_type": "code",
   "execution_count": 32,
   "metadata": {
    "collapsed": false
   },
   "outputs": [
    {
     "name": "stdout",
     "output_type": "stream",
     "text": [
      "Precision Score 0.94140625\n"
     ]
    }
   ],
   "source": [
    "#Precision: When a positive value is predicted, how often is the prediction correct?\n",
    "#How \"precise\" is the classifier when predicting positive instances?\n",
    "\n",
    "Precision_logr= metrics.precision_score(y_test,logr_pred)\n",
    "print 'Precision Score', Precision_logr"
   ]
  },
  {
   "cell_type": "code",
   "execution_count": 33,
   "metadata": {
    "collapsed": false
   },
   "outputs": [
    {
     "data": {
      "text/plain": [
       "389     I really don't get why everyone is raving this...\n",
       "2060                This place is closed.  Good riddance.\n",
       "715     What's with the cheese?  It isn't even Velveta...\n",
       "2084    Easily the worst \"burrito\" I have ever had.\\nI...\n",
       "5977    You want good food? You'd be better off smuggl...\n",
       "9441    It was my Birthday and my wife, her mom, a dea...\n",
       "6222    My mother always told me, if I didn't have any...\n",
       "2297    This is a sad excuse for a gay resort.  Sort o...\n",
       "487     Would have to agree with Rana A below... I thi...\n",
       "79      This is my first year participating in Arizona...\n",
       "8507                         This location is now closed.\n",
       "8569    This place has the oiliest food I've ever eate...\n",
       "3677    Hands down, the single worst public mass trans...\n",
       "7035    Totally excited to try this place out, my gran...\n",
       "8626                       sslowest drive through ever!!!\n",
       "4686                UPDATE: This location is closed. Boo!\n",
       "8384         in addition to sucking, it's also expensive.\n",
       "3482    Door clearly says drive-thru open 24 hours and...\n",
       "3125    Let me first say if I could have given 0 stars...\n",
       "3068    I really wanted to like this place.  For start...\n",
       "119     Take your money elsewhere, unless you've got k...\n",
       "8681    As I promised myself, I'd go back again to try...\n",
       "9262    Very loud, crowded and quite unpleasant. I fel...\n",
       "6159    Really, if I could, I would give this place ze...\n",
       "3656    Pop the Soda Shop has closed its doors last mo...\n",
       "2999    I can't even believe I actually went to this r...\n",
       "4278    Closed... GONE UNDER, OUTTA HERE.. See ya late...\n",
       "126     My friend kept telling me how good their lunch...\n",
       "1291    Every time I come here the staff is so rude! I...\n",
       "1423    I hadn't been to Fuddruckers for about 20 year...\n",
       "9984    Went last night to Whore Foods to get basics t...\n",
       "5502    Angry Bro Bar !  Please go here if you wear si...\n",
       "4362    I eat a lot of Asian food (of different sorts)...\n",
       "690     I was so happy to see another station in the n...\n",
       "1747    This dog park gets one star.Why?Because the la...\n",
       "4227    I have literally never seen this place open an...\n",
       "979     No, I simply cannot put in a good review for M...\n",
       "7975    What are you all talking about?! This place is...\n",
       "1923    I love how all other Yelpers reviewing this co...\n",
       "3938    We were so disappointed!  We were on vacation ...\n",
       "1299    Cool place but don't try to arrange a special ...\n",
       "6617    I just thought I'd post an update.  I planned ...\n",
       "4201    Just a quick update - this KFC shut down just ...\n",
       "7913    Unprofessional, disorganized, and extremely lo...\n",
       "140     Other than the really great happy hour prices,...\n",
       "3266    Absolutely awful... these guys have NO idea wh...\n",
       "4249    AMC Theaters has the distinct disadvantage in ...\n",
       "7803    I'm sad to report that we dined here for lunch...\n",
       "5856    Let's talk about failure, baby.\\n\\nHey, if you...\n",
       "4632    The music is pounding...\\n\\nIt reeks of ridicu...\n",
       "6045    The cool name of the place is the only good th...\n",
       "3652    I was very disappointed in my encounter with t...\n",
       "7827    As you walk in you are greeted by a sign that ...\n",
       "8653    One hour. That is how long we waited after ord...\n",
       "6762    I learned of this company through a living soc...\n",
       "338     There really isn't much I like about Michael's...\n",
       "8429    Worse pizza I have had in a while. We ordered ...\n",
       "2662    I would absolutely not recommend living here. ...\n",
       "4673    Terrible food, terrible service.\\n\\nI ordered ...\n",
       "136     Absolutely horrendous.  This post office will ...\n",
       "Name: text, dtype: object"
      ]
     },
     "execution_count": 33,
     "metadata": {},
     "output_type": "execute_result"
    }
   ],
   "source": [
    "#print rating 1 reviews which are falsely callisified as positive i.e rating 5 ,diplay False Postive review comments\n",
    "X_test[(logr_pred == 1) & (y_test == 0)]"
   ]
  },
  {
   "cell_type": "code",
   "execution_count": 34,
   "metadata": {
    "collapsed": false
   },
   "outputs": [
    {
     "data": {
      "text/plain": [
       "\"I really don't get why everyone is raving this place.  I've been here twice and ordered the carne asada burrito.  The portions are really small for the price that they charge.  There is too much tortilla for the meat.  I think this place is overrated and that there are better places for carne asada in the valley.\""
      ]
     },
     "execution_count": 34,
     "metadata": {},
     "output_type": "execute_result"
    }
   ],
   "source": [
    "#Lets inspect 389 review \n",
    "X_test[389]"
   ]
  },
  {
   "cell_type": "code",
   "execution_count": 35,
   "metadata": {
    "collapsed": false
   },
   "outputs": [
    {
     "data": {
      "text/plain": [
       "2504    I've passed by prestige nails in walmart 100s ...\n",
       "2958    I stopped in with a friend on a Saturday night...\n",
       "3790    My mother and I were actually getting out of t...\n",
       "9636    OK OK... as a Proud Italian I hope my momma do...\n",
       "3075                       Unfortunately Out of Business.\n",
       "8648    This 5 star rating is mostly for their boba! T...\n",
       "5699    Staying at the Royal Palms has been on my buck...\n",
       "8434    a weekend of debauchery was spent here when i ...\n",
       "763     Here's the deal. I said I was done with OT, bu...\n",
       "1404    Excellent customer service, super clean, and t...\n",
       "3855    Last week, I had my first appointment at Pure ...\n",
       "180     Hippies scare me.     So in my preparation to ...\n",
       "7240    Love this gym. Not many know it's here..lunch ...\n",
       "5250    We checked out the prices at The Dump, the sal...\n",
       "1857    I stopped by a Friday morning a few months pas...\n",
       "2902    Southwest blows its competitors so far out of ...\n",
       "5374    Last time I went to Zinburger I was wearing a ...\n",
       "3987    I'm very new to PHX. I ended up talking to a c...\n",
       "6423    The closest thing I have to a neighborhood pub...\n",
       "8176    I went here for my birthday this year. The bes...\n",
       "8265    Two other AC companies were going to charge me...\n",
       "988     OK, so this is how much I love this product. I...\n",
       "6276    Hate long lines at the DMV?  Hate dealing with...\n",
       "5867    I have concerns about Heirloom. Not about the ...\n",
       "8956    I took my computer to RedSeven recently when m...\n",
       "1323    I just wanted to add that in addition to party...\n",
       "6318    Since I have ranted recently on poor customer ...\n",
       "5807    Hard to find New York pizza that tastes like N...\n",
       "6779    I had the terrible decision to make to euthani...\n",
       "Name: text, dtype: object"
      ]
     },
     "execution_count": 35,
     "metadata": {},
     "output_type": "execute_result"
    }
   ],
   "source": [
    "#print rating 5 reviews which are falsely callisified as negative i.e rating 1,diplay True Negative review comments\n",
    "X_test[(logr_pred == 0) & (y_test == 1)]"
   ]
  },
  {
   "cell_type": "code",
   "execution_count": 36,
   "metadata": {
    "collapsed": false
   },
   "outputs": [
    {
     "data": {
      "text/plain": [
       "\"I've passed by prestige nails in walmart 100s of times but never really thought of having a pedicure there (even though they are always busy!) As I stared at my feet, long overdue for a pedicure, I thought it was about time to try them...since walmart rarely let's me down why should the nail salon inside?\\n\\nTo my surprise I got a wonderful pedicure or $23 not too bad this day in age...my to mention it was just as good as going to the more upscale salon just across the street! \\n\\nI'm glad to be the first to review them they deserve it! Now if only they did facials at walmart and hair I'd be set!\""
      ]
     },
     "execution_count": 36,
     "metadata": {},
     "output_type": "execute_result"
    }
   ],
   "source": [
    "#Lets inspect 2504 review \n",
    "X_test[2504]"
   ]
  },
  {
   "cell_type": "code",
   "execution_count": 38,
   "metadata": {
    "collapsed": false
   },
   "outputs": [
    {
     "name": "stdout",
     "output_type": "stream",
     "text": [
      "             precision    recall  f1-score   support\n",
      "\n",
      "          0       0.86      0.74      0.80       233\n",
      "          1       0.94      0.97      0.96       993\n",
      "\n",
      "avg / total       0.93      0.93      0.93      1226\n",
      "\n"
     ]
    }
   ],
   "source": [
    "#Lets print classifcation report\n",
    "class_report = metrics.classification_report(y_test,logr_pred)\n",
    "print class_report"
   ]
  },
  {
   "cell_type": "code",
   "execution_count": null,
   "metadata": {
    "collapsed": true
   },
   "outputs": [],
   "source": [
    "#Upto this point Logistic regression seems to be doing good than Naive Bayes "
   ]
  }
 ],
 "metadata": {
  "kernelspec": {
   "display_name": "Python [conda root]",
   "language": "python",
   "name": "conda-root-py"
  },
  "language_info": {
   "codemirror_mode": {
    "name": "ipython",
    "version": 2
   },
   "file_extension": ".py",
   "mimetype": "text/x-python",
   "name": "python",
   "nbconvert_exporter": "python",
   "pygments_lexer": "ipython2",
   "version": "2.7.12"
  }
 },
 "nbformat": 4,
 "nbformat_minor": 1
}
